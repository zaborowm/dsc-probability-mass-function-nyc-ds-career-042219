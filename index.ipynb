{
 "cells": [
  {
   "cell_type": "markdown",
   "metadata": {},
   "source": [
    "# The Probability Mass Function (PMF)\n",
    "\n",
    "## Introduction\n",
    "In this lesson you'll look at a way to represent discrete distributions - the probability mass function (pmf), which maps from each value to its probability. You'll explore Probability Density Functions (PDFs) for continuous data later!\n",
    "\n",
    "We'll investigate a similar concept, the probability density function (PDF) the next lessons.\n",
    "\n",
    "## Objectives\n",
    "You will be able to: \n",
    "* Develop a mathematical understanding of a discrete variable PMF\n",
    "* Develop an intuition for PMF while working with a toy example\n",
    "* Visualize the PMF and describe its relationship with histograms\n",
    "\n",
    "## What is a Probability Mass Function (PMF)?\n",
    "\n",
    "A probability mass function (pmf), sometimes referred to as a frequency function, are functions that associate probabilities with discrete random variables. You already learned about this in the context of coin flips and dice rolls. The **discrete** part in discrete distributions means that there is a **known number of possible outcomes**. \n",
    "\n",
    "**Based on your experience of rolling a dice**, you know can develop a PMF showing the probabilities of each possible value between 1 and 6 occurring.\n",
    "\n",
    "\n",
    "More formally:\n",
    "\n",
    "> The Probability Mass Function (PMF) maps a probability ($P$) of observing an outcome $x$ of our discrete random variable $X$ in a way that this function takes the form $f(x) = P(X = x)$.\n",
    "\n",
    "$X$ being a discrete random variable, we can say that the range $R_X$ is a countable set of all possible values of X. \n",
    "They can be represented as a list as follows:\n",
    "\n",
    "$R_x = \\{ x_1,x_2,x_3,\\ldots \\}$\n",
    "\n",
    "where $x_1,x_2,x_3,\\ldots$ are the possible values of $x$. \n",
    "\n",
    "\n",
    "\n",
    "We are interested in quantifying the probability that $X$ is equal to some given quantity $x_3$. That is, we want to know $P(x_3)$. In the case of our dice, we might be interested in the probability  of getting a 3 which would be $P(3) = \\dfrac{1}{6}$\n",
    "\n",
    "Think of the event $A$, so that  $A = \\{ X = x_k \\}$ is defined as the set of outcomes $s$ in the sample space $S$ for which the corresponding value of $X$ is equal to $x_k$.  This can be written as:\n",
    "\n",
    "$$\\large A = \\{ s \\in S \\mid X(s) = x_k \\}$$\n",
    "\n",
    "## PMF Intuition\n",
    "\n",
    "Let's work through a brief example calculating the PMF for a discrete random variable!\n",
    "\n",
    "You have previously seen that a **probability** is a number in the range [0,1] that is calculated as *frequency expressed as a fraction of the sample size.* This means that, in order to convert and random variable's frequency into a probability, we need to perform the following steps:\n",
    "\n",
    "* Get the frequency of each possible value in the dataset\n",
    "* Divide the frequency of each value by the total number of values (length of dataset)\n",
    "* Get the probability for each value\n",
    "\n",
    "Let's show this using a simple toy example:"
   ]
  },
  {
   "cell_type": "code",
   "execution_count": 1,
   "metadata": {},
   "outputs": [
    {
     "name": "stdout",
     "output_type": "stream",
     "text": [
      "Counter({1: 4, 2: 4, 3: 2, 5: 2, 4: 1})\n",
      "13\n"
     ]
    }
   ],
   "source": [
    "# Count the frequency of values in a given dataset\n",
    "import collections\n",
    "x = [1,1,1,1,2,2,2,2,3,3,4,5,5]\n",
    "counter = collections.Counter(x)\n",
    "print(counter)\n",
    "\n",
    "print(len(x))"
   ]
  },
  {
   "cell_type": "markdown",
   "metadata": {},
   "source": [
    "You'll notice that this returned a dictionary, with keys being the possible outcomes, and values of these keys set to the frequency of items. You can calculate the PMF using step 2 above. "
   ]
  },
  {
   "cell_type": "code",
   "execution_count": 2,
   "metadata": {},
   "outputs": [
    {
     "name": "stdout",
     "output_type": "stream",
     "text": [
      "dict_keys([1, 2, 3, 4, 5]) [0.31, 0.31, 0.15, 0.08, 0.15]\n"
     ]
    }
   ],
   "source": [
    "# Convert frequency to probability - divide each frequency value by total number of values\n",
    "pmf = []\n",
    "for key,val in counter.items():\n",
    "    pmf.append(round(val/len(x), 2))\n",
    "    \n",
    "print(counter.keys(), pmf)"
   ]
  },
  {
   "cell_type": "markdown",
   "metadata": {},
   "source": [
    "You notice that the PMF is normalized so total probability is 1."
   ]
  },
  {
   "cell_type": "code",
   "execution_count": 3,
   "metadata": {},
   "outputs": [
    {
     "data": {
      "text/plain": [
       "1.0"
      ]
     },
     "execution_count": 3,
     "metadata": {},
     "output_type": "execute_result"
    }
   ],
   "source": [
    "import numpy as np\n",
    "\n",
    "np.array(pmf).sum()"
   ]
  },
  {
   "cell_type": "markdown",
   "metadata": {},
   "source": [
    "## Visualizing a PMF\n",
    "\n",
    "You can inspect the PMF of a discrete variable by visualizing the distribution using matplotlib. You can use a simple bar graph to show the PMF using the probabilities calculated above. Here's the code:"
   ]
  },
  {
   "cell_type": "code",
   "execution_count": 4,
   "metadata": {},
   "outputs": [
    {
     "data": {
      "image/png": "[encoded data removed]",
      "text/plain": [
       "<Figure size 432x288 with 1 Axes>"
      ]
     },
     "metadata": {},
     "output_type": "display_data"
    }
   ],
   "source": [
    "import matplotlib.pyplot as plt\n",
    "%matplotlib inline\n",
    "plt.style.use('ggplot')\n",
    "\n",
    "plt.bar(counter.keys(), pmf);\n",
    "plt.title(\"A Probability Mass Function\");"
   ]
  },
  {
   "cell_type": "markdown",
   "metadata": {},
   "source": [
    "This looks pretty familiar. It's essentially a normalized histogram! You can use `plt.hist(x)` to obtain the histogram."
   ]
  },
  {
   "cell_type": "code",
   "execution_count": 5,
   "metadata": {},
   "outputs": [
    {
     "data": {
      "image/png": "[encoded data removed]",
      "text/plain": [
       "<Figure size 432x288 with 1 Axes>"
      ]
     },
     "metadata": {
      "needs_background": "light"
     },
     "output_type": "display_data"
    }
   ],
   "source": [
    "plt.hist(x);\n",
    "plt.title('Histogram');"
   ]
  },
  {
   "cell_type": "markdown",
   "metadata": {},
   "source": [
    "If you look carefully, there is only a difference in the y-axis. A histogram shows the frequency count of each value in a dataset, whereas the bar plot here shows probabilities. \n",
    "\n",
    "You can alter your histogram to show probabilities instead of frequency counts using the `density = True` argument. \n",
    "\n",
    "While we're at it, let's rescale our x-axis a little bit better in our histogram. You can also change the width of your vertical bars using the argument `rwidth`."
   ]
  },
  {
   "cell_type": "code",
   "execution_count": 74,
   "metadata": {},
   "outputs": [
    {
     "data": {
      "image/png": "[encoded data removed]",
      "text/plain": [
       "<matplotlib.figure.Figure at 0x11a7dbe80>"
      ]
     },
     "metadata": {},
     "output_type": "display_data"
    }
   ],
   "source": [
    "xtick_locations = np.arange(1.5, 7.5, 1)  # x=5, 15, 25, ...\n",
    "xtick_labels = ['1', '2', '3', '4', '5']\n",
    "bins = range(1, 7, 1) \n",
    "plt.xticks(xtick_locations, xtick_labels)\n",
    "\n",
    "plt.hist(x, bins=bins,  rwidth=0.25, density=True);\n"
   ]
  },
  {
   "cell_type": "markdown",
   "metadata": {},
   "source": [
    "## Expected Value and Variance\n",
    "\n",
    "When talking about distributions, there will generally be two descriptive quantities you're interested in: the **expected value** and the **mean**. For discrete distributions, the expected Value of your discrete random value X is given by:\n",
    "\n",
    "$$\\large E(X) = \\mu = \\sum_i p(x_i)x_i$$\n",
    "\n",
    "The variance is given by:\n",
    "\n",
    "$$\\large E((X-\\mu)^2) = \\sigma^2 = \\sum_i p(x_i)(x_i-\\mu)^2$$\n",
    "\n",
    "\n",
    "The table below pust these formulas into practice using our example to get a better understanding!\n",
    "\n",
    "| outcome      | 1     | 2     | 3     | 4    | 5     |$\\sum$  |\n",
    "|--------------|-------|-------|-------|------|-------|--------|\n",
    "|<img width=100/>|<img width=130/>|<img width=130/>|<img width=130/>|<img width=130/>|<img width=130/>|<img width=100/>|\n",
    "| probability  | $0.31$  |$ 0.31$  | $0.15$  | $0.08$ | $0.15$  |  $ 1$    |\n",
    "| $p(x_i)x_i$  | $0.31$  | $0.62$  | $0.45$ | $0.32$  |$0.75$   |  $2.45$  |\n",
    "| $(x_i-\\mu)^2$| $(-1.45)^2 = 2.1025$| $(-0.45)^2=0.2025$|$(0.55)^2=0.3025$|$(1.55)^2=2.4025$|$(2.55)^2=6.5025$ |\n",
    "| $ p(x_i)(x_i-\\mu)^2$|$0.65175$|$0.062775$|$0.045375$|$0.1922$|$0.975375$|$1.927475$|\n",
    "\n",
    "As you can see from the far right column, the expected vslue is equal to 2.45, and the variance is equal to 1.927475. Even though for this example these values may not be super informative, you'll learn how these two descriptive quantities are often important parameters in many distributions to come!\n",
    "\n",
    "**NOTE**: In some literature, the PMF is also called just the **probability distribution**. The phrase distribution function is usually reserved exclusively for the cumulative distribution function CDF. \n",
    "\n",
    "## Summary\n",
    "\n",
    "In this lesson you learned more about the probability mass function, and how to get a list of probabilities for each possible value in a discrete random variable, by looking at their frequencies. You also learned about the concept of expected value and variance for discrete distributions. Moving on, you'll learn about probability density functions for continuous variables."
   ]
  },
  {
   "cell_type": "code",
   "execution_count": null,
   "metadata": {},
   "outputs": [],
   "source": []
  }
 ],
 "metadata": {
  "kernelspec": {
   "display_name": "Python 3",
   "language": "python",
   "name": "python3"
  },
  "language_info": {
   "codemirror_mode": {
    "name": "ipython",
    "version": 3
   },
   "file_extension": ".py",
   "mimetype": "text/x-python",
   "name": "python",
   "nbconvert_exporter": "python",
   "pygments_lexer": "ipython3",
   "version": "3.6.6"
  }
 },
 "nbformat": 4,
 "nbformat_minor": 2
}
